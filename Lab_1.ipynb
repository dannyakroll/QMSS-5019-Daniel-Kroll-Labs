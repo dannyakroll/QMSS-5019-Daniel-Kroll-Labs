{
  "nbformat": 4,
  "nbformat_minor": 0,
  "metadata": {
    "colab": {
      "provenance": []
    },
    "kernelspec": {
      "name": "python3",
      "display_name": "Python 3"
    },
    "language_info": {
      "name": "python"
    }
  },
  "cells": [
    {
      "cell_type": "markdown",
      "source": [
        "### Lab 1\n",
        "## Daniel Kroll\n"
      ],
      "metadata": {
        "id": "tOVRtec_gtRc"
      }
    },
    {
      "cell_type": "code",
      "execution_count": 5,
      "metadata": {
        "colab": {
          "base_uri": "https://localhost:8080/",
          "height": 74
        },
        "id": "irsdxRRl-fXy",
        "outputId": "3db8d651-092e-4d84-a84b-c41dee89eb49"
      },
      "outputs": [
        {
          "output_type": "display_data",
          "data": {
            "text/plain": [
              "<IPython.core.display.HTML object>"
            ],
            "text/html": [
              "\n",
              "     <input type=\"file\" id=\"files-c5a95c68-f4d8-4036-974b-0466aec39ce7\" name=\"files[]\" multiple disabled\n",
              "        style=\"border:none\" />\n",
              "     <output id=\"result-c5a95c68-f4d8-4036-974b-0466aec39ce7\">\n",
              "      Upload widget is only available when the cell has been executed in the\n",
              "      current browser session. Please rerun this cell to enable.\n",
              "      </output>\n",
              "      <script>// Copyright 2017 Google LLC\n",
              "//\n",
              "// Licensed under the Apache License, Version 2.0 (the \"License\");\n",
              "// you may not use this file except in compliance with the License.\n",
              "// You may obtain a copy of the License at\n",
              "//\n",
              "//      http://www.apache.org/licenses/LICENSE-2.0\n",
              "//\n",
              "// Unless required by applicable law or agreed to in writing, software\n",
              "// distributed under the License is distributed on an \"AS IS\" BASIS,\n",
              "// WITHOUT WARRANTIES OR CONDITIONS OF ANY KIND, either express or implied.\n",
              "// See the License for the specific language governing permissions and\n",
              "// limitations under the License.\n",
              "\n",
              "/**\n",
              " * @fileoverview Helpers for google.colab Python module.\n",
              " */\n",
              "(function(scope) {\n",
              "function span(text, styleAttributes = {}) {\n",
              "  const element = document.createElement('span');\n",
              "  element.textContent = text;\n",
              "  for (const key of Object.keys(styleAttributes)) {\n",
              "    element.style[key] = styleAttributes[key];\n",
              "  }\n",
              "  return element;\n",
              "}\n",
              "\n",
              "// Max number of bytes which will be uploaded at a time.\n",
              "const MAX_PAYLOAD_SIZE = 100 * 1024;\n",
              "\n",
              "function _uploadFiles(inputId, outputId) {\n",
              "  const steps = uploadFilesStep(inputId, outputId);\n",
              "  const outputElement = document.getElementById(outputId);\n",
              "  // Cache steps on the outputElement to make it available for the next call\n",
              "  // to uploadFilesContinue from Python.\n",
              "  outputElement.steps = steps;\n",
              "\n",
              "  return _uploadFilesContinue(outputId);\n",
              "}\n",
              "\n",
              "// This is roughly an async generator (not supported in the browser yet),\n",
              "// where there are multiple asynchronous steps and the Python side is going\n",
              "// to poll for completion of each step.\n",
              "// This uses a Promise to block the python side on completion of each step,\n",
              "// then passes the result of the previous step as the input to the next step.\n",
              "function _uploadFilesContinue(outputId) {\n",
              "  const outputElement = document.getElementById(outputId);\n",
              "  const steps = outputElement.steps;\n",
              "\n",
              "  const next = steps.next(outputElement.lastPromiseValue);\n",
              "  return Promise.resolve(next.value.promise).then((value) => {\n",
              "    // Cache the last promise value to make it available to the next\n",
              "    // step of the generator.\n",
              "    outputElement.lastPromiseValue = value;\n",
              "    return next.value.response;\n",
              "  });\n",
              "}\n",
              "\n",
              "/**\n",
              " * Generator function which is called between each async step of the upload\n",
              " * process.\n",
              " * @param {string} inputId Element ID of the input file picker element.\n",
              " * @param {string} outputId Element ID of the output display.\n",
              " * @return {!Iterable<!Object>} Iterable of next steps.\n",
              " */\n",
              "function* uploadFilesStep(inputId, outputId) {\n",
              "  const inputElement = document.getElementById(inputId);\n",
              "  inputElement.disabled = false;\n",
              "\n",
              "  const outputElement = document.getElementById(outputId);\n",
              "  outputElement.innerHTML = '';\n",
              "\n",
              "  const pickedPromise = new Promise((resolve) => {\n",
              "    inputElement.addEventListener('change', (e) => {\n",
              "      resolve(e.target.files);\n",
              "    });\n",
              "  });\n",
              "\n",
              "  const cancel = document.createElement('button');\n",
              "  inputElement.parentElement.appendChild(cancel);\n",
              "  cancel.textContent = 'Cancel upload';\n",
              "  const cancelPromise = new Promise((resolve) => {\n",
              "    cancel.onclick = () => {\n",
              "      resolve(null);\n",
              "    };\n",
              "  });\n",
              "\n",
              "  // Wait for the user to pick the files.\n",
              "  const files = yield {\n",
              "    promise: Promise.race([pickedPromise, cancelPromise]),\n",
              "    response: {\n",
              "      action: 'starting',\n",
              "    }\n",
              "  };\n",
              "\n",
              "  cancel.remove();\n",
              "\n",
              "  // Disable the input element since further picks are not allowed.\n",
              "  inputElement.disabled = true;\n",
              "\n",
              "  if (!files) {\n",
              "    return {\n",
              "      response: {\n",
              "        action: 'complete',\n",
              "      }\n",
              "    };\n",
              "  }\n",
              "\n",
              "  for (const file of files) {\n",
              "    const li = document.createElement('li');\n",
              "    li.append(span(file.name, {fontWeight: 'bold'}));\n",
              "    li.append(span(\n",
              "        `(${file.type || 'n/a'}) - ${file.size} bytes, ` +\n",
              "        `last modified: ${\n",
              "            file.lastModifiedDate ? file.lastModifiedDate.toLocaleDateString() :\n",
              "                                    'n/a'} - `));\n",
              "    const percent = span('0% done');\n",
              "    li.appendChild(percent);\n",
              "\n",
              "    outputElement.appendChild(li);\n",
              "\n",
              "    const fileDataPromise = new Promise((resolve) => {\n",
              "      const reader = new FileReader();\n",
              "      reader.onload = (e) => {\n",
              "        resolve(e.target.result);\n",
              "      };\n",
              "      reader.readAsArrayBuffer(file);\n",
              "    });\n",
              "    // Wait for the data to be ready.\n",
              "    let fileData = yield {\n",
              "      promise: fileDataPromise,\n",
              "      response: {\n",
              "        action: 'continue',\n",
              "      }\n",
              "    };\n",
              "\n",
              "    // Use a chunked sending to avoid message size limits. See b/62115660.\n",
              "    let position = 0;\n",
              "    do {\n",
              "      const length = Math.min(fileData.byteLength - position, MAX_PAYLOAD_SIZE);\n",
              "      const chunk = new Uint8Array(fileData, position, length);\n",
              "      position += length;\n",
              "\n",
              "      const base64 = btoa(String.fromCharCode.apply(null, chunk));\n",
              "      yield {\n",
              "        response: {\n",
              "          action: 'append',\n",
              "          file: file.name,\n",
              "          data: base64,\n",
              "        },\n",
              "      };\n",
              "\n",
              "      let percentDone = fileData.byteLength === 0 ?\n",
              "          100 :\n",
              "          Math.round((position / fileData.byteLength) * 100);\n",
              "      percent.textContent = `${percentDone}% done`;\n",
              "\n",
              "    } while (position < fileData.byteLength);\n",
              "  }\n",
              "\n",
              "  // All done.\n",
              "  yield {\n",
              "    response: {\n",
              "      action: 'complete',\n",
              "    }\n",
              "  };\n",
              "}\n",
              "\n",
              "scope.google = scope.google || {};\n",
              "scope.google.colab = scope.google.colab || {};\n",
              "scope.google.colab._files = {\n",
              "  _uploadFiles,\n",
              "  _uploadFilesContinue,\n",
              "};\n",
              "})(self);\n",
              "</script> "
            ]
          },
          "metadata": {}
        },
        {
          "output_type": "stream",
          "name": "stdout",
          "text": [
            "Saving General Social Survey, 2006.csv to General Social Survey, 2006 (1).csv\n"
          ]
        }
      ],
      "source": [
        "from __future__ import division\n",
        "import pandas as pd\n",
        "import numpy as np\n",
        "import statsmodels.api as sm\n",
        "import statsmodels.formula.api as smf\n",
        "import os\n",
        "import matplotlib.pyplot as plt\n",
        "\n",
        "from google.colab import files\n",
        "uploaded = files.upload()\n",
        "import io\n",
        "d = pd.read_csv(io.BytesIO(uploaded['General Social Survey, 2006.csv']))"
      ]
    },
    {
      "cell_type": "code",
      "source": [
        "d.head()"
      ],
      "metadata": {
        "colab": {
          "base_uri": "https://localhost:8080/",
          "height": 300
        },
        "id": "BDQK52rmBKVA",
        "outputId": "ef3e7c31-00a2-4969-a080-abc7b3799b03"
      },
      "execution_count": 6,
      "outputs": [
        {
          "output_type": "execute_result",
          "data": {
            "text/plain": [
              "   YEAR  ID  WRKSTAT  HRS1  HRS2  EVWORK  WRKSLF  WRKGOVT  OCC80  PREST80  \\\n",
              "0  2006   1        1  35.0   NaN     NaN     2.0      2.0   95.0       66   \n",
              "1  2006   2        1  40.0   NaN     NaN     2.0      2.0  243.0       44   \n",
              "2  2006   3        5   NaN   NaN     1.0     2.0      2.0  715.0       29   \n",
              "3  2006   4        2  24.0   NaN     NaN     2.0      2.0  313.0       46   \n",
              "4  2006   5        6   NaN   NaN     2.0     NaN      NaN    NaN        0   \n",
              "\n",
              "   ...  SPANENG  WTSS  WTSSNR  WTSSALL  I_AGE  I_ATTEND  I_EDUC  I_GENDER  \\\n",
              "0  ...        1  0.43    0.49   0.4297    3.0       6.0     2.0         2   \n",
              "1  ...        1  1.91    2.16   1.9096    1.0       1.0     2.0         1   \n",
              "2  ...        2  0.86    0.97   0.8593    4.0       1.0     1.0         2   \n",
              "3  ...        1  0.43    0.49   0.4297    3.0       1.0     2.0         2   \n",
              "4  ...        1  1.29    1.46   1.2890    1.0       1.0     2.0         1   \n",
              "\n",
              "   I_RELIGION  I_REGION  \n",
              "0         4.0         1  \n",
              "1         2.0         1  \n",
              "2         2.0         1  \n",
              "3         1.0         1  \n",
              "4         2.0         1  \n",
              "\n",
              "[5 rows x 1238 columns]"
            ],
            "text/html": [
              "\n",
              "  <div id=\"df-41f27f0c-c2e6-4158-a88e-96afb3d85a8b\">\n",
              "    <div class=\"colab-df-container\">\n",
              "      <div>\n",
              "<style scoped>\n",
              "    .dataframe tbody tr th:only-of-type {\n",
              "        vertical-align: middle;\n",
              "    }\n",
              "\n",
              "    .dataframe tbody tr th {\n",
              "        vertical-align: top;\n",
              "    }\n",
              "\n",
              "    .dataframe thead th {\n",
              "        text-align: right;\n",
              "    }\n",
              "</style>\n",
              "<table border=\"1\" class=\"dataframe\">\n",
              "  <thead>\n",
              "    <tr style=\"text-align: right;\">\n",
              "      <th></th>\n",
              "      <th>YEAR</th>\n",
              "      <th>ID</th>\n",
              "      <th>WRKSTAT</th>\n",
              "      <th>HRS1</th>\n",
              "      <th>HRS2</th>\n",
              "      <th>EVWORK</th>\n",
              "      <th>WRKSLF</th>\n",
              "      <th>WRKGOVT</th>\n",
              "      <th>OCC80</th>\n",
              "      <th>PREST80</th>\n",
              "      <th>...</th>\n",
              "      <th>SPANENG</th>\n",
              "      <th>WTSS</th>\n",
              "      <th>WTSSNR</th>\n",
              "      <th>WTSSALL</th>\n",
              "      <th>I_AGE</th>\n",
              "      <th>I_ATTEND</th>\n",
              "      <th>I_EDUC</th>\n",
              "      <th>I_GENDER</th>\n",
              "      <th>I_RELIGION</th>\n",
              "      <th>I_REGION</th>\n",
              "    </tr>\n",
              "  </thead>\n",
              "  <tbody>\n",
              "    <tr>\n",
              "      <th>0</th>\n",
              "      <td>2006</td>\n",
              "      <td>1</td>\n",
              "      <td>1</td>\n",
              "      <td>35.0</td>\n",
              "      <td>NaN</td>\n",
              "      <td>NaN</td>\n",
              "      <td>2.0</td>\n",
              "      <td>2.0</td>\n",
              "      <td>95.0</td>\n",
              "      <td>66</td>\n",
              "      <td>...</td>\n",
              "      <td>1</td>\n",
              "      <td>0.43</td>\n",
              "      <td>0.49</td>\n",
              "      <td>0.4297</td>\n",
              "      <td>3.0</td>\n",
              "      <td>6.0</td>\n",
              "      <td>2.0</td>\n",
              "      <td>2</td>\n",
              "      <td>4.0</td>\n",
              "      <td>1</td>\n",
              "    </tr>\n",
              "    <tr>\n",
              "      <th>1</th>\n",
              "      <td>2006</td>\n",
              "      <td>2</td>\n",
              "      <td>1</td>\n",
              "      <td>40.0</td>\n",
              "      <td>NaN</td>\n",
              "      <td>NaN</td>\n",
              "      <td>2.0</td>\n",
              "      <td>2.0</td>\n",
              "      <td>243.0</td>\n",
              "      <td>44</td>\n",
              "      <td>...</td>\n",
              "      <td>1</td>\n",
              "      <td>1.91</td>\n",
              "      <td>2.16</td>\n",
              "      <td>1.9096</td>\n",
              "      <td>1.0</td>\n",
              "      <td>1.0</td>\n",
              "      <td>2.0</td>\n",
              "      <td>1</td>\n",
              "      <td>2.0</td>\n",
              "      <td>1</td>\n",
              "    </tr>\n",
              "    <tr>\n",
              "      <th>2</th>\n",
              "      <td>2006</td>\n",
              "      <td>3</td>\n",
              "      <td>5</td>\n",
              "      <td>NaN</td>\n",
              "      <td>NaN</td>\n",
              "      <td>1.0</td>\n",
              "      <td>2.0</td>\n",
              "      <td>2.0</td>\n",
              "      <td>715.0</td>\n",
              "      <td>29</td>\n",
              "      <td>...</td>\n",
              "      <td>2</td>\n",
              "      <td>0.86</td>\n",
              "      <td>0.97</td>\n",
              "      <td>0.8593</td>\n",
              "      <td>4.0</td>\n",
              "      <td>1.0</td>\n",
              "      <td>1.0</td>\n",
              "      <td>2</td>\n",
              "      <td>2.0</td>\n",
              "      <td>1</td>\n",
              "    </tr>\n",
              "    <tr>\n",
              "      <th>3</th>\n",
              "      <td>2006</td>\n",
              "      <td>4</td>\n",
              "      <td>2</td>\n",
              "      <td>24.0</td>\n",
              "      <td>NaN</td>\n",
              "      <td>NaN</td>\n",
              "      <td>2.0</td>\n",
              "      <td>2.0</td>\n",
              "      <td>313.0</td>\n",
              "      <td>46</td>\n",
              "      <td>...</td>\n",
              "      <td>1</td>\n",
              "      <td>0.43</td>\n",
              "      <td>0.49</td>\n",
              "      <td>0.4297</td>\n",
              "      <td>3.0</td>\n",
              "      <td>1.0</td>\n",
              "      <td>2.0</td>\n",
              "      <td>2</td>\n",
              "      <td>1.0</td>\n",
              "      <td>1</td>\n",
              "    </tr>\n",
              "    <tr>\n",
              "      <th>4</th>\n",
              "      <td>2006</td>\n",
              "      <td>5</td>\n",
              "      <td>6</td>\n",
              "      <td>NaN</td>\n",
              "      <td>NaN</td>\n",
              "      <td>2.0</td>\n",
              "      <td>NaN</td>\n",
              "      <td>NaN</td>\n",
              "      <td>NaN</td>\n",
              "      <td>0</td>\n",
              "      <td>...</td>\n",
              "      <td>1</td>\n",
              "      <td>1.29</td>\n",
              "      <td>1.46</td>\n",
              "      <td>1.2890</td>\n",
              "      <td>1.0</td>\n",
              "      <td>1.0</td>\n",
              "      <td>2.0</td>\n",
              "      <td>1</td>\n",
              "      <td>2.0</td>\n",
              "      <td>1</td>\n",
              "    </tr>\n",
              "  </tbody>\n",
              "</table>\n",
              "<p>5 rows × 1238 columns</p>\n",
              "</div>\n",
              "      <button class=\"colab-df-convert\" onclick=\"convertToInteractive('df-41f27f0c-c2e6-4158-a88e-96afb3d85a8b')\"\n",
              "              title=\"Convert this dataframe to an interactive table.\"\n",
              "              style=\"display:none;\">\n",
              "        \n",
              "  <svg xmlns=\"http://www.w3.org/2000/svg\" height=\"24px\"viewBox=\"0 0 24 24\"\n",
              "       width=\"24px\">\n",
              "    <path d=\"M0 0h24v24H0V0z\" fill=\"none\"/>\n",
              "    <path d=\"M18.56 5.44l.94 2.06.94-2.06 2.06-.94-2.06-.94-.94-2.06-.94 2.06-2.06.94zm-11 1L8.5 8.5l.94-2.06 2.06-.94-2.06-.94L8.5 2.5l-.94 2.06-2.06.94zm10 10l.94 2.06.94-2.06 2.06-.94-2.06-.94-.94-2.06-.94 2.06-2.06.94z\"/><path d=\"M17.41 7.96l-1.37-1.37c-.4-.4-.92-.59-1.43-.59-.52 0-1.04.2-1.43.59L10.3 9.45l-7.72 7.72c-.78.78-.78 2.05 0 2.83L4 21.41c.39.39.9.59 1.41.59.51 0 1.02-.2 1.41-.59l7.78-7.78 2.81-2.81c.8-.78.8-2.07 0-2.86zM5.41 20L4 18.59l7.72-7.72 1.47 1.35L5.41 20z\"/>\n",
              "  </svg>\n",
              "      </button>\n",
              "      \n",
              "  <style>\n",
              "    .colab-df-container {\n",
              "      display:flex;\n",
              "      flex-wrap:wrap;\n",
              "      gap: 12px;\n",
              "    }\n",
              "\n",
              "    .colab-df-convert {\n",
              "      background-color: #E8F0FE;\n",
              "      border: none;\n",
              "      border-radius: 50%;\n",
              "      cursor: pointer;\n",
              "      display: none;\n",
              "      fill: #1967D2;\n",
              "      height: 32px;\n",
              "      padding: 0 0 0 0;\n",
              "      width: 32px;\n",
              "    }\n",
              "\n",
              "    .colab-df-convert:hover {\n",
              "      background-color: #E2EBFA;\n",
              "      box-shadow: 0px 1px 2px rgba(60, 64, 67, 0.3), 0px 1px 3px 1px rgba(60, 64, 67, 0.15);\n",
              "      fill: #174EA6;\n",
              "    }\n",
              "\n",
              "    [theme=dark] .colab-df-convert {\n",
              "      background-color: #3B4455;\n",
              "      fill: #D2E3FC;\n",
              "    }\n",
              "\n",
              "    [theme=dark] .colab-df-convert:hover {\n",
              "      background-color: #434B5C;\n",
              "      box-shadow: 0px 1px 3px 1px rgba(0, 0, 0, 0.15);\n",
              "      filter: drop-shadow(0px 1px 2px rgba(0, 0, 0, 0.3));\n",
              "      fill: #FFFFFF;\n",
              "    }\n",
              "  </style>\n",
              "\n",
              "      <script>\n",
              "        const buttonEl =\n",
              "          document.querySelector('#df-41f27f0c-c2e6-4158-a88e-96afb3d85a8b button.colab-df-convert');\n",
              "        buttonEl.style.display =\n",
              "          google.colab.kernel.accessAllowed ? 'block' : 'none';\n",
              "\n",
              "        async function convertToInteractive(key) {\n",
              "          const element = document.querySelector('#df-41f27f0c-c2e6-4158-a88e-96afb3d85a8b');\n",
              "          const dataTable =\n",
              "            await google.colab.kernel.invokeFunction('convertToInteractive',\n",
              "                                                     [key], {});\n",
              "          if (!dataTable) return;\n",
              "\n",
              "          const docLinkHtml = 'Like what you see? Visit the ' +\n",
              "            '<a target=\"_blank\" href=https://colab.research.google.com/notebooks/data_table.ipynb>data table notebook</a>'\n",
              "            + ' to learn more about interactive tables.';\n",
              "          element.innerHTML = '';\n",
              "          dataTable['output_type'] = 'display_data';\n",
              "          await google.colab.output.renderOutput(dataTable, element);\n",
              "          const docLink = document.createElement('div');\n",
              "          docLink.innerHTML = docLinkHtml;\n",
              "          element.appendChild(docLink);\n",
              "        }\n",
              "      </script>\n",
              "    </div>\n",
              "  </div>\n",
              "  "
            ]
          },
          "metadata": {},
          "execution_count": 6
        }
      ]
    },
    {
      "cell_type": "code",
      "source": [
        "relig_strength=d.RELITEN.value_counts().sort_index()\n",
        "levels=['Strong','Not very strong', 'Somewhat strong','No religion', \"Don't know\", 'No answer']\n",
        "relig_strength.index=levels\n",
        "relig_strength.loc['total']=relig_strength.sum()\n",
        "print(relig_strength)"
      ],
      "metadata": {
        "colab": {
          "base_uri": "https://localhost:8080/"
        },
        "id": "U72E_vi7YIDU",
        "outputId": "d2716973-3031-4aca-9080-936dd3533518"
      },
      "execution_count": null,
      "outputs": [
        {
          "output_type": "stream",
          "name": "stdout",
          "text": [
            "Strong             1616\n",
            "Not very strong    1632\n",
            "Somewhat strong     482\n",
            "No religion         739\n",
            "Don't know           12\n",
            "No answer            29\n",
            "total              4510\n",
            "Name: RELITEN, dtype: int64\n"
          ]
        }
      ]
    },
    {
      "cell_type": "markdown",
      "source": [
        "Let's look at this in percentages:"
      ],
      "metadata": {
        "id": "gL5hA4sBSLAU"
      }
    },
    {
      "cell_type": "code",
      "source": [
        "relig_strength_pct=relig_strength=d.RELITEN.value_counts(normalize=True).sort_index()*100\n",
        "levels=['Strong','Not very strong', 'Somewhat strong','No religion', \"Don't know\", 'No answer']\n",
        "relig_strength.index=levels\n",
        "print(relig_strength_pct)"
      ],
      "metadata": {
        "id": "lsMKM9z8L2s7",
        "colab": {
          "base_uri": "https://localhost:8080/"
        },
        "outputId": "802363c2-4819-4c34-fe0a-b46129a726a3"
      },
      "execution_count": null,
      "outputs": [
        {
          "output_type": "stream",
          "name": "stdout",
          "text": [
            "Strong             35.831486\n",
            "Not very strong    36.186253\n",
            "Somewhat strong    10.687361\n",
            "No religion        16.385809\n",
            "Don't know          0.266075\n",
            "No answer           0.643016\n",
            "Name: RELITEN, dtype: float64\n"
          ]
        }
      ]
    },
    {
      "cell_type": "code",
      "source": [
        "explode = (0, 0, 0, 0, 0.3,0.1)\n",
        "relig_strength_pct.plot.pie(explode=explode, ylabel=' ', labels=['','','','','',''], autopct='%.2f', title='Strength of Religious Observance', legend=True)\n",
        "plt.legend(bbox_to_anchor=(0, 1), loc=2, labels=relig_strength.index)\n",
        "plt.show()"
      ],
      "metadata": {
        "colab": {
          "base_uri": "https://localhost:8080/",
          "height": 428
        },
        "id": "jI972lpvYbi_",
        "outputId": "ad0ddf86-ea4a-4314-c984-8695a0321242"
      },
      "execution_count": null,
      "outputs": [
        {
          "output_type": "display_data",
          "data": {
            "text/plain": [
              "<Figure size 640x480 with 1 Axes>"
            ],
            "image/png": "[encoded data removed]"
          },
          "metadata": {}
        }
      ]
    },
    {
      "cell_type": "markdown",
      "source": [
        "1-- I chose to examine, from the 2006 GSS Survey, the strength of respondents' stated religion. In the first table, I provided the counts of each response, which ranged from 'Strong' to 'Not very strong', as well as other miscellaneous categories including 'No religion' and 'No answer'. Then, I converted each of these counts into percentages, to analyze whether there are any trends in the data surrounding respondents' strength of religious observance.\n",
        "\n",
        "From the table of percentages, we see that the categories 'Strong' and 'Not very strong' each have roughly 35% of responses. In other words, over 70% of respondents favored the extremes of religious observance. This is somewhat surprising, since the past 30 years have seen an increase in the secularization of American society. Although that would explain the largest percentage of 'Not very strong', there is still an almost comparable percentage of respondents who indicated having a 'Strong' level of religious observance.\n",
        "\n",
        "For visualization, I also indicated the percentage distribution in the pie chart above."
      ],
      "metadata": {
        "id": "9yP5DhAEj-i4"
      }
    },
    {
      "cell_type": "code",
      "source": [
        "d.RELIG.value_counts().sort_index()"
      ],
      "metadata": {
        "colab": {
          "base_uri": "https://localhost:8080/"
        },
        "id": "9_eTCYN0o4nu",
        "outputId": "3bfe5771-2d59-46e0-e80f-09e42cced29e"
      },
      "execution_count": null,
      "outputs": [
        {
          "output_type": "execute_result",
          "data": {
            "text/plain": [
              "1     2328\n",
              "2     1114\n",
              "3       78\n",
              "4      739\n",
              "5       39\n",
              "6       31\n",
              "7       11\n",
              "8        2\n",
              "9       17\n",
              "10      14\n",
              "11     102\n",
              "12       3\n",
              "13       6\n",
              "99      26\n",
              "Name: RELIG, dtype: int64"
            ]
          },
          "metadata": {},
          "execution_count": 7
        }
      ]
    },
    {
      "cell_type": "code",
      "source": [
        "relig_count=d.RELIG.value_counts().sort_index()\n",
        "religions=['Protestant','Catholic','Jewish','None','Other','Buddhism','Hinduism','Other Eastern','Moslem/Islam','Orthodox-Christian','Christian','Native American','Inter-Nondenominational','No answer']\n",
        "relig_count.index=religions\n",
        "relig_count.loc['total']=relig_count.sum()\n",
        "print(relig_count)"
      ],
      "metadata": {
        "colab": {
          "base_uri": "https://localhost:8080/"
        },
        "id": "SBQfoioNBqwZ",
        "outputId": "b0545480-76db-4667-bd7a-15d6745f630c"
      },
      "execution_count": null,
      "outputs": [
        {
          "output_type": "stream",
          "name": "stdout",
          "text": [
            "Protestant                 2328\n",
            "Catholic                   1114\n",
            "Jewish                       78\n",
            "None                        739\n",
            "Other                        39\n",
            "Buddhism                     31\n",
            "Hinduism                     11\n",
            "Other Eastern                 2\n",
            "Moslem/Islam                 17\n",
            "Orthodox-Christian           14\n",
            "Christian                   102\n",
            "Native American               3\n",
            "Inter-Nondenominational       6\n",
            "No answer                    26\n",
            "total                      4510\n",
            "Name: RELIG, dtype: int64\n"
          ]
        }
      ]
    },
    {
      "cell_type": "code",
      "source": [
        "inc_avg_byrelig=d.groupby(['RELIG'])['REALRINC'].mean()\n",
        "religions=['Protestant','Catholic','Jewish','None','Other','Buddhism','Hinduism','Other Eastern','Moslem/Islam','Orthodox-Christian','Christian','Native American','Inter-Nondenominational','No answer']\n",
        "inc_avg_byrelig.index=religions\n",
        "print(inc_avg_byrelig)"
      ],
      "metadata": {
        "colab": {
          "base_uri": "https://localhost:8080/"
        },
        "id": "qr3JQPjZijvq",
        "outputId": "d3b55d01-0a13-4590-92d0-4a0db28068f7"
      },
      "execution_count": null,
      "outputs": [
        {
          "output_type": "stream",
          "name": "stdout",
          "text": [
            "Protestant                 25212.381199\n",
            "Catholic                   27183.039474\n",
            "Jewish                     43464.333333\n",
            "None                       26883.866109\n",
            "Other                      31550.000000\n",
            "Buddhism                   31473.043478\n",
            "Hinduism                   28597.285714\n",
            "Other Eastern              62430.500000\n",
            "Moslem/Islam               18558.700000\n",
            "Orthodox-Christian         38668.500000\n",
            "Christian                  22359.607143\n",
            "Native American            15488.500000\n",
            "Inter-Nondenominational    16142.500000\n",
            "No answer                  20146.666667\n",
            "Name: REALRINC, dtype: float64\n"
          ]
        }
      ]
    },
    {
      "cell_type": "code",
      "source": [
        "inc_std_byrelig=d.groupby(['RELIG'])['REALRINC'].std()\n",
        "religions=['Protestant','Catholic','Jewish','None','Other','Buddhism','Hinduism','Other Eastern','Moslem/Islam','Orthodox-Christian','Christian','Native American','Inter-Nondenominational','No answer']\n",
        "inc_std_byrelig.index=religions\n",
        "print(inc_std_byrelig)"
      ],
      "metadata": {
        "colab": {
          "base_uri": "https://localhost:8080/"
        },
        "id": "dli7y2Nnpnre",
        "outputId": "d842b476-a634-4586-c030-6d86f79d986a"
      },
      "execution_count": null,
      "outputs": [
        {
          "output_type": "stream",
          "name": "stdout",
          "text": [
            "Protestant                 27364.052514\n",
            "Catholic                   29843.788572\n",
            "Jewish                     41468.507767\n",
            "None                       30195.672179\n",
            "Other                      37106.727086\n",
            "Buddhism                   30375.472202\n",
            "Hinduism                   18702.898828\n",
            "Other Eastern              71740.932699\n",
            "Moslem/Islam                9811.165024\n",
            "Orthodox-Christian         33971.614289\n",
            "Christian                  22814.505366\n",
            "Native American             7300.877516\n",
            "Inter-Nondenominational    10965.816477\n",
            "No answer                  14378.504424\n",
            "Name: REALRINC, dtype: float64\n"
          ]
        }
      ]
    },
    {
      "cell_type": "code",
      "source": [
        "%matplotlib inline\n",
        "d.boxplot(column=['REALRINC'], by=['RELIG'], xlabel='Religion', ylabel='Family Income 1972-1991')"
      ],
      "metadata": {
        "colab": {
          "base_uri": "https://localhost:8080/",
          "height": 496
        },
        "id": "xU3TmoRVl05H",
        "outputId": "1bd6e09a-0302-43c5-b02f-254cec32d619"
      },
      "execution_count": null,
      "outputs": [
        {
          "output_type": "execute_result",
          "data": {
            "text/plain": [
              "<Axes: title={'center': 'REALRINC'}, xlabel='Religion', ylabel='Family Income 1972-1991'>"
            ]
          },
          "metadata": {},
          "execution_count": 73
        },
        {
          "output_type": "display_data",
          "data": {
            "text/plain": [
              "<Figure size 640x480 with 1 Axes>"
            ],
            "image/png": "[encoded data removed]"
          },
          "metadata": {}
        }
      ]
    },
    {
      "cell_type": "code",
      "source": [
        "real=d.groupby(['RELIG'])['REALRINC']\n",
        "religions=['Protestant','Catholic','Jewish','None','Other','Buddhism','Hinduism','Other Eastern','Moslem/Islam','Orthodox-Christian','Christian','Native American','Inter-Nondenominational','No answer']\n",
        "real.plot.kde(xlim=(0,200000), title='Kernel Density Functions for Income by Religion')\n",
        "plt.legend(religions)\n",
        "plt.xlabel('Income 1972-1991')"
      ],
      "metadata": {
        "colab": {
          "base_uri": "https://localhost:8080/",
          "height": 490
        },
        "id": "NJU9hd9kpV9n",
        "outputId": "35926ac1-e84e-4f06-f7f9-e0c7ea83da22"
      },
      "execution_count": 14,
      "outputs": [
        {
          "output_type": "execute_result",
          "data": {
            "text/plain": [
              "Text(0.5, 0, 'Income 1972-1991')"
            ]
          },
          "metadata": {},
          "execution_count": 14
        },
        {
          "output_type": "display_data",
          "data": {
            "text/plain": [
              "<Figure size 640x480 with 1 Axes>"
            ],
            "image/png": "[encoded data removed]"
          },
          "metadata": {}
        }
      ]
    },
    {
      "cell_type": "markdown",
      "source": [
        "2-- I chose to analyze respondents' personal income between 1972-1991 adjusted to constant dollars. Specifically, I grouped respondents' personal income by their reported religions, to examine if there is any relationship between being a member of a certain religion and having disproportionaley high or low income. I chose to examine this relationship due to stereotypes surrounding poverty and affluence for specific religious groups, and wanted to see if the GSS 2006 data would refute or bolster these biases.\n",
        "\n",
        "The numbers 1-13 and 99 correspond to the different possible religious responses to the survery. The mapping of these numbers to their corresponding religions can be found in the 2 counts provided at the beginning of this analysis.\n",
        "\n",
        "\n",
        "Although we calculated the means and standard deviations, and the means are generally close to the medians, it is difficult to use them as descriptive statistics because the standard deviations are so large, with some of them even being larger than the mean. For example, This would imply that being one standard deviation away from the mean would reflect respondents having negative income, which is not possible.\n",
        "\n",
        "We will therefore try to examine the data through boxplots, as well as kernel density estimates, to try and see if the incomes, grouped by religion, follow similar distributions or not.\n",
        "\n",
        "\n",
        "At first glance, it would appear from the data that almost all religions' income distributions have an interquartile range of roughly \\$20,000, since the 75th percentiles are all roughly between \\$35,000-\\$40,000 and the 25th percentiles are all approximately \\$15,000-\\$20,000. \n",
        "\n",
        "The notable exceptions to this distribution, though, are respondents who identified as Jewish or Other Eastern; while the median income for Jewish respondents was similar to other religions, the 75th percentile and the maximum are significantly higher (\\$70,000 and >\\$100,000 respectively). Similarly, respondents identifying as members of the Other Eastern religions had a median income of roughly \\$65,000, with an accordingly higher 75th percentile and maximum.\n",
        "\n",
        "However, upon closer examination of the data, specifically the counts, it can be argued that the large variation and disproportionate income can be attributed to severely limited sampling. In particular, there are only 2 respondents who identified as Other Eastern, and only 78 who identified as Jewish.\n",
        "\n",
        "What complicates matters, though, is that Other, Buddhist and Hindu respondents had very low sampling in the construction of their income boxplot as well; yet, their general distribution follows that of the income of religions which had much larger sample sizes.\n",
        "\n",
        "From the kernel density estimates, we see again that most of the religions overlap with each other, meaning that the estimated distributions of income are roughly the same. Specifically, Jewish respondents seem to be generally in line with many of the other religions, but have a slight increase in probability towards very large incomes, compared to other religions. This can explain the skewed distribution in the boxplot for Jewish respondents. The Other Eastern respondents, however have an almost flat estimated density function, meaning that they are equally probable to have incomes at any point along their distribution. This shows that there is simply not enough data to accurately infer anything about their incomes.Similarly, the Native American respondents have a completely different estimated distribution. Again, this is likely due to a very small sample size, which means we don't have enough data to make any conclusions for them.\n",
        "\n",
        "Therefore, it is difficult to conclusively make any statements as to the relationship between religious denomination and personal income between 1972-1991, since nearly all of the variation in distributions can be explained by insufficient sampling."
      ],
      "metadata": {
        "id": "EIweivI_BQxy"
      }
    },
    {
      "cell_type": "code",
      "source": [
        "pd.crosstab(d.LIFE,d.TAX)"
      ],
      "metadata": {
        "colab": {
          "base_uri": "https://localhost:8080/",
          "height": 238
        },
        "id": "Vq8Yll339HWg",
        "outputId": "2b5f852d-01db-4695-84c0-2eeda164e849"
      },
      "execution_count": 7,
      "outputs": [
        {
          "output_type": "execute_result",
          "data": {
            "text/plain": [
              "TAX   1.0  2.0  3.0  8.0  9.0\n",
              "LIFE                         \n",
              "1.0   537  413   15   19    0\n",
              "2.0   524  336    5   22    1\n",
              "3.0    54   37    3    8    0\n",
              "8.0    18    6    0    4    0\n",
              "9.0     1    0    0    0    0"
            ],
            "text/html": [
              "\n",
              "  <div id=\"df-caf1581f-8c74-467f-b862-18c912c97a28\">\n",
              "    <div class=\"colab-df-container\">\n",
              "      <div>\n",
              "<style scoped>\n",
              "    .dataframe tbody tr th:only-of-type {\n",
              "        vertical-align: middle;\n",
              "    }\n",
              "\n",
              "    .dataframe tbody tr th {\n",
              "        vertical-align: top;\n",
              "    }\n",
              "\n",
              "    .dataframe thead th {\n",
              "        text-align: right;\n",
              "    }\n",
              "</style>\n",
              "<table border=\"1\" class=\"dataframe\">\n",
              "  <thead>\n",
              "    <tr style=\"text-align: right;\">\n",
              "      <th>TAX</th>\n",
              "      <th>1.0</th>\n",
              "      <th>2.0</th>\n",
              "      <th>3.0</th>\n",
              "      <th>8.0</th>\n",
              "      <th>9.0</th>\n",
              "    </tr>\n",
              "    <tr>\n",
              "      <th>LIFE</th>\n",
              "      <th></th>\n",
              "      <th></th>\n",
              "      <th></th>\n",
              "      <th></th>\n",
              "      <th></th>\n",
              "    </tr>\n",
              "  </thead>\n",
              "  <tbody>\n",
              "    <tr>\n",
              "      <th>1.0</th>\n",
              "      <td>537</td>\n",
              "      <td>413</td>\n",
              "      <td>15</td>\n",
              "      <td>19</td>\n",
              "      <td>0</td>\n",
              "    </tr>\n",
              "    <tr>\n",
              "      <th>2.0</th>\n",
              "      <td>524</td>\n",
              "      <td>336</td>\n",
              "      <td>5</td>\n",
              "      <td>22</td>\n",
              "      <td>1</td>\n",
              "    </tr>\n",
              "    <tr>\n",
              "      <th>3.0</th>\n",
              "      <td>54</td>\n",
              "      <td>37</td>\n",
              "      <td>3</td>\n",
              "      <td>8</td>\n",
              "      <td>0</td>\n",
              "    </tr>\n",
              "    <tr>\n",
              "      <th>8.0</th>\n",
              "      <td>18</td>\n",
              "      <td>6</td>\n",
              "      <td>0</td>\n",
              "      <td>4</td>\n",
              "      <td>0</td>\n",
              "    </tr>\n",
              "    <tr>\n",
              "      <th>9.0</th>\n",
              "      <td>1</td>\n",
              "      <td>0</td>\n",
              "      <td>0</td>\n",
              "      <td>0</td>\n",
              "      <td>0</td>\n",
              "    </tr>\n",
              "  </tbody>\n",
              "</table>\n",
              "</div>\n",
              "      <button class=\"colab-df-convert\" onclick=\"convertToInteractive('df-caf1581f-8c74-467f-b862-18c912c97a28')\"\n",
              "              title=\"Convert this dataframe to an interactive table.\"\n",
              "              style=\"display:none;\">\n",
              "        \n",
              "  <svg xmlns=\"http://www.w3.org/2000/svg\" height=\"24px\"viewBox=\"0 0 24 24\"\n",
              "       width=\"24px\">\n",
              "    <path d=\"M0 0h24v24H0V0z\" fill=\"none\"/>\n",
              "    <path d=\"M18.56 5.44l.94 2.06.94-2.06 2.06-.94-2.06-.94-.94-2.06-.94 2.06-2.06.94zm-11 1L8.5 8.5l.94-2.06 2.06-.94-2.06-.94L8.5 2.5l-.94 2.06-2.06.94zm10 10l.94 2.06.94-2.06 2.06-.94-2.06-.94-.94-2.06-.94 2.06-2.06.94z\"/><path d=\"M17.41 7.96l-1.37-1.37c-.4-.4-.92-.59-1.43-.59-.52 0-1.04.2-1.43.59L10.3 9.45l-7.72 7.72c-.78.78-.78 2.05 0 2.83L4 21.41c.39.39.9.59 1.41.59.51 0 1.02-.2 1.41-.59l7.78-7.78 2.81-2.81c.8-.78.8-2.07 0-2.86zM5.41 20L4 18.59l7.72-7.72 1.47 1.35L5.41 20z\"/>\n",
              "  </svg>\n",
              "      </button>\n",
              "      \n",
              "  <style>\n",
              "    .colab-df-container {\n",
              "      display:flex;\n",
              "      flex-wrap:wrap;\n",
              "      gap: 12px;\n",
              "    }\n",
              "\n",
              "    .colab-df-convert {\n",
              "      background-color: #E8F0FE;\n",
              "      border: none;\n",
              "      border-radius: 50%;\n",
              "      cursor: pointer;\n",
              "      display: none;\n",
              "      fill: #1967D2;\n",
              "      height: 32px;\n",
              "      padding: 0 0 0 0;\n",
              "      width: 32px;\n",
              "    }\n",
              "\n",
              "    .colab-df-convert:hover {\n",
              "      background-color: #E2EBFA;\n",
              "      box-shadow: 0px 1px 2px rgba(60, 64, 67, 0.3), 0px 1px 3px 1px rgba(60, 64, 67, 0.15);\n",
              "      fill: #174EA6;\n",
              "    }\n",
              "\n",
              "    [theme=dark] .colab-df-convert {\n",
              "      background-color: #3B4455;\n",
              "      fill: #D2E3FC;\n",
              "    }\n",
              "\n",
              "    [theme=dark] .colab-df-convert:hover {\n",
              "      background-color: #434B5C;\n",
              "      box-shadow: 0px 1px 3px 1px rgba(0, 0, 0, 0.15);\n",
              "      filter: drop-shadow(0px 1px 2px rgba(0, 0, 0, 0.3));\n",
              "      fill: #FFFFFF;\n",
              "    }\n",
              "  </style>\n",
              "\n",
              "      <script>\n",
              "        const buttonEl =\n",
              "          document.querySelector('#df-caf1581f-8c74-467f-b862-18c912c97a28 button.colab-df-convert');\n",
              "        buttonEl.style.display =\n",
              "          google.colab.kernel.accessAllowed ? 'block' : 'none';\n",
              "\n",
              "        async function convertToInteractive(key) {\n",
              "          const element = document.querySelector('#df-caf1581f-8c74-467f-b862-18c912c97a28');\n",
              "          const dataTable =\n",
              "            await google.colab.kernel.invokeFunction('convertToInteractive',\n",
              "                                                     [key], {});\n",
              "          if (!dataTable) return;\n",
              "\n",
              "          const docLinkHtml = 'Like what you see? Visit the ' +\n",
              "            '<a target=\"_blank\" href=https://colab.research.google.com/notebooks/data_table.ipynb>data table notebook</a>'\n",
              "            + ' to learn more about interactive tables.';\n",
              "          element.innerHTML = '';\n",
              "          dataTable['output_type'] = 'display_data';\n",
              "          await google.colab.output.renderOutput(dataTable, element);\n",
              "          const docLink = document.createElement('div');\n",
              "          docLink.innerHTML = docLinkHtml;\n",
              "          element.appendChild(docLink);\n",
              "        }\n",
              "      </script>\n",
              "    </div>\n",
              "  </div>\n",
              "  "
            ]
          },
          "metadata": {},
          "execution_count": 7
        }
      ]
    },
    {
      "cell_type": "code",
      "source": [
        "tax_life_pct=pd.crosstab(d.LIFE,d.TAX,normalize='columns')*100\n",
        "tax_res=['Too high','About right', 'Too low', \"Don't know\", 'No answer']\n",
        "tax_life_pct.columns=tax_res\n",
        "tax_life_pct"
      ],
      "metadata": {
        "colab": {
          "base_uri": "https://localhost:8080/",
          "height": 238
        },
        "id": "fZyNjUNK-yCK",
        "outputId": "f2942f06-4737-478d-cc97-8a0ef6d80f03"
      },
      "execution_count": 13,
      "outputs": [
        {
          "output_type": "execute_result",
          "data": {
            "text/plain": [
              "       Too high  About right    Too low  Don't know  No answer\n",
              "LIFE                                                          \n",
              "1.0   47.354497    52.146465  65.217391   35.849057        0.0\n",
              "2.0   46.208113    42.424242  21.739130   41.509434      100.0\n",
              "3.0    4.761905     4.671717  13.043478   15.094340        0.0\n",
              "8.0    1.587302     0.757576   0.000000    7.547170        0.0\n",
              "9.0    0.088183     0.000000   0.000000    0.000000        0.0"
            ],
            "text/html": [
              "\n",
              "  <div id=\"df-59824d85-0673-4f65-8d41-8670ec2563f2\">\n",
              "    <div class=\"colab-df-container\">\n",
              "      <div>\n",
              "<style scoped>\n",
              "    .dataframe tbody tr th:only-of-type {\n",
              "        vertical-align: middle;\n",
              "    }\n",
              "\n",
              "    .dataframe tbody tr th {\n",
              "        vertical-align: top;\n",
              "    }\n",
              "\n",
              "    .dataframe thead th {\n",
              "        text-align: right;\n",
              "    }\n",
              "</style>\n",
              "<table border=\"1\" class=\"dataframe\">\n",
              "  <thead>\n",
              "    <tr style=\"text-align: right;\">\n",
              "      <th></th>\n",
              "      <th>Too high</th>\n",
              "      <th>About right</th>\n",
              "      <th>Too low</th>\n",
              "      <th>Don't know</th>\n",
              "      <th>No answer</th>\n",
              "    </tr>\n",
              "    <tr>\n",
              "      <th>LIFE</th>\n",
              "      <th></th>\n",
              "      <th></th>\n",
              "      <th></th>\n",
              "      <th></th>\n",
              "      <th></th>\n",
              "    </tr>\n",
              "  </thead>\n",
              "  <tbody>\n",
              "    <tr>\n",
              "      <th>1.0</th>\n",
              "      <td>47.354497</td>\n",
              "      <td>52.146465</td>\n",
              "      <td>65.217391</td>\n",
              "      <td>35.849057</td>\n",
              "      <td>0.0</td>\n",
              "    </tr>\n",
              "    <tr>\n",
              "      <th>2.0</th>\n",
              "      <td>46.208113</td>\n",
              "      <td>42.424242</td>\n",
              "      <td>21.739130</td>\n",
              "      <td>41.509434</td>\n",
              "      <td>100.0</td>\n",
              "    </tr>\n",
              "    <tr>\n",
              "      <th>3.0</th>\n",
              "      <td>4.761905</td>\n",
              "      <td>4.671717</td>\n",
              "      <td>13.043478</td>\n",
              "      <td>15.094340</td>\n",
              "      <td>0.0</td>\n",
              "    </tr>\n",
              "    <tr>\n",
              "      <th>8.0</th>\n",
              "      <td>1.587302</td>\n",
              "      <td>0.757576</td>\n",
              "      <td>0.000000</td>\n",
              "      <td>7.547170</td>\n",
              "      <td>0.0</td>\n",
              "    </tr>\n",
              "    <tr>\n",
              "      <th>9.0</th>\n",
              "      <td>0.088183</td>\n",
              "      <td>0.000000</td>\n",
              "      <td>0.000000</td>\n",
              "      <td>0.000000</td>\n",
              "      <td>0.0</td>\n",
              "    </tr>\n",
              "  </tbody>\n",
              "</table>\n",
              "</div>\n",
              "      <button class=\"colab-df-convert\" onclick=\"convertToInteractive('df-59824d85-0673-4f65-8d41-8670ec2563f2')\"\n",
              "              title=\"Convert this dataframe to an interactive table.\"\n",
              "              style=\"display:none;\">\n",
              "        \n",
              "  <svg xmlns=\"http://www.w3.org/2000/svg\" height=\"24px\"viewBox=\"0 0 24 24\"\n",
              "       width=\"24px\">\n",
              "    <path d=\"M0 0h24v24H0V0z\" fill=\"none\"/>\n",
              "    <path d=\"M18.56 5.44l.94 2.06.94-2.06 2.06-.94-2.06-.94-.94-2.06-.94 2.06-2.06.94zm-11 1L8.5 8.5l.94-2.06 2.06-.94-2.06-.94L8.5 2.5l-.94 2.06-2.06.94zm10 10l.94 2.06.94-2.06 2.06-.94-2.06-.94-.94-2.06-.94 2.06-2.06.94z\"/><path d=\"M17.41 7.96l-1.37-1.37c-.4-.4-.92-.59-1.43-.59-.52 0-1.04.2-1.43.59L10.3 9.45l-7.72 7.72c-.78.78-.78 2.05 0 2.83L4 21.41c.39.39.9.59 1.41.59.51 0 1.02-.2 1.41-.59l7.78-7.78 2.81-2.81c.8-.78.8-2.07 0-2.86zM5.41 20L4 18.59l7.72-7.72 1.47 1.35L5.41 20z\"/>\n",
              "  </svg>\n",
              "      </button>\n",
              "      \n",
              "  <style>\n",
              "    .colab-df-container {\n",
              "      display:flex;\n",
              "      flex-wrap:wrap;\n",
              "      gap: 12px;\n",
              "    }\n",
              "\n",
              "    .colab-df-convert {\n",
              "      background-color: #E8F0FE;\n",
              "      border: none;\n",
              "      border-radius: 50%;\n",
              "      cursor: pointer;\n",
              "      display: none;\n",
              "      fill: #1967D2;\n",
              "      height: 32px;\n",
              "      padding: 0 0 0 0;\n",
              "      width: 32px;\n",
              "    }\n",
              "\n",
              "    .colab-df-convert:hover {\n",
              "      background-color: #E2EBFA;\n",
              "      box-shadow: 0px 1px 2px rgba(60, 64, 67, 0.3), 0px 1px 3px 1px rgba(60, 64, 67, 0.15);\n",
              "      fill: #174EA6;\n",
              "    }\n",
              "\n",
              "    [theme=dark] .colab-df-convert {\n",
              "      background-color: #3B4455;\n",
              "      fill: #D2E3FC;\n",
              "    }\n",
              "\n",
              "    [theme=dark] .colab-df-convert:hover {\n",
              "      background-color: #434B5C;\n",
              "      box-shadow: 0px 1px 3px 1px rgba(0, 0, 0, 0.15);\n",
              "      filter: drop-shadow(0px 1px 2px rgba(0, 0, 0, 0.3));\n",
              "      fill: #FFFFFF;\n",
              "    }\n",
              "  </style>\n",
              "\n",
              "      <script>\n",
              "        const buttonEl =\n",
              "          document.querySelector('#df-59824d85-0673-4f65-8d41-8670ec2563f2 button.colab-df-convert');\n",
              "        buttonEl.style.display =\n",
              "          google.colab.kernel.accessAllowed ? 'block' : 'none';\n",
              "\n",
              "        async function convertToInteractive(key) {\n",
              "          const element = document.querySelector('#df-59824d85-0673-4f65-8d41-8670ec2563f2');\n",
              "          const dataTable =\n",
              "            await google.colab.kernel.invokeFunction('convertToInteractive',\n",
              "                                                     [key], {});\n",
              "          if (!dataTable) return;\n",
              "\n",
              "          const docLinkHtml = 'Like what you see? Visit the ' +\n",
              "            '<a target=\"_blank\" href=https://colab.research.google.com/notebooks/data_table.ipynb>data table notebook</a>'\n",
              "            + ' to learn more about interactive tables.';\n",
              "          element.innerHTML = '';\n",
              "          dataTable['output_type'] = 'display_data';\n",
              "          await google.colab.output.renderOutput(dataTable, element);\n",
              "          const docLink = document.createElement('div');\n",
              "          docLink.innerHTML = docLinkHtml;\n",
              "          element.appendChild(docLink);\n",
              "        }\n",
              "      </script>\n",
              "    </div>\n",
              "  </div>\n",
              "  "
            ]
          },
          "metadata": {},
          "execution_count": 13
        }
      ]
    },
    {
      "cell_type": "code",
      "source": [
        "grouped_tax_life = (d.groupby(['TAX', 'LIFE'])['TAX'].count()/d.groupby(['TAX'])['LIFE'].count())\n",
        "grouped_tax_life.unstack().plot.bar(stacked=True)"
      ],
      "metadata": {
        "colab": {
          "base_uri": "https://localhost:8080/",
          "height": 475
        },
        "id": "1fsXzhycAo0K",
        "outputId": "6116b97a-f15c-42c8-f5ab-2299a40e18aa"
      },
      "execution_count": 11,
      "outputs": [
        {
          "output_type": "execute_result",
          "data": {
            "text/plain": [
              "<Axes: xlabel='TAX'>"
            ]
          },
          "metadata": {},
          "execution_count": 11
        },
        {
          "output_type": "display_data",
          "data": {
            "text/plain": [
              "<Figure size 640x480 with 1 Axes>"
            ],
            "image/png": "[encoded data removed]"
          },
          "metadata": {}
        }
      ]
    },
    {
      "cell_type": "markdown",
      "source": [
        "3- I chose to examine the relationship between respondents' opinions on how much taxes they pay and how dull or exciting they perceive their lives to be. The main reason I chose this is because I expected that people who feel that they pay too much in taxes would also feel that their lives are less exciting, ie. they may have generally pessimistic views. First, I cross-tabulated the two variables; then, I converted them into percentages and renamed the different opinions on taxes to their proper names. \n",
        "\n",
        "Interestingly, I found that people who felt that their taxes were too low responded that their lives were exciting by roughly 15-20% more than those who felt their taxes were too high or just right. \n",
        "\n",
        "While this makes sense, I was surprised that the data didn't indicate any seemingly major differences between those who felt their taxes were too high and those who felt they were just right. While people who felt their taxes were just right responded that their lives were exciting at a rate of around 4% more, it is hard to determine whether this 4% represents anything statistically significant or not. Otherwise, though, the distribution of data for these two groups is essentially the same. \n",
        "\n",
        "For those who didn't know if they felt their taxes were too high or not, they had the lowest percentage of respondents feeling like life is exciting, at only around 35%. This, too, makes sense, as people who are disinterested about important topics such as their finances could be assumed to have a similarly apathetic attitude towards finding excitement in their lives. On the other hand, one could argue that this is a surprise, as those who are nonchalant about finances often enjoy life to the fullest, without worry or regard for accumulation of wealth.\n",
        "\n",
        "Overall, the key portions of the data, namely that people who felt they pay very low taxes also felt more excitement in their lives, is consistent with what we expect. However, as stated above, there are a number of groups in the dataset which exhibit behavior which is difficult to interpret."
      ],
      "metadata": {
        "id": "wot_mGw1uvpa"
      }
    }
  ]
}